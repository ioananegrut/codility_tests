{
 "cells": [
  {
   "attachments": {},
   "cell_type": "markdown",
   "metadata": {},
   "source": [
    "### For loops\n",
    "\n",
    "for some_condition in range_of_values:\\\n",
    "&ensp; loop_body"
   ]
  },
  {
   "cell_type": "code",
   "execution_count": 1,
   "metadata": {},
   "outputs": [
    {
     "name": "stdout",
     "output_type": "stream",
     "text": [
      "10! = 3628800\n"
     ]
    }
   ],
   "source": [
    "# Calculate n! where n=10\n",
    "n = 10\n",
    "factorial=1\n",
    "\n",
    "for i in range(1,n+1):\n",
    "    factorial *= i\n",
    "print(\"{}! = {}\".format(n, factorial))"
   ]
  },
  {
   "cell_type": "code",
   "execution_count": 11,
   "metadata": {},
   "outputs": [
    {
     "name": "stdout",
     "output_type": "stream",
     "text": [
      "*   \n",
      "*   *   \n",
      "*   *   *   \n",
      "*   *   *   *   \n"
     ]
    }
   ],
   "source": [
    "# Print a triangle asterix as following\n",
    "#*\n",
    "#* *\n",
    "#* * * , where number of rows = 4\n",
    "\n",
    "nr_rows = 4\n",
    "\n",
    "for i in range(nr_rows):\n",
    "    base_sequence = \"*   \"\n",
    "    _sequence = base_sequence*(i+1)\n",
    "    print(_sequence)"
   ]
  },
  {
   "cell_type": "code",
   "execution_count": 17,
   "metadata": {},
   "outputs": [
    {
     "name": "stdout",
     "output_type": "stream",
     "text": [
      "*******\n",
      " ***** \n",
      "  ***  \n",
      "   *   \n"
     ]
    }
   ],
   "source": [
    "# Print a triangle asterix as following\n",
    "#* * * * *\n",
    "#  * * *\n",
    "#    *     , where number of rows = 4\n",
    "# range(start, stop, step)\n",
    "\n",
    "nr_rows = 4\n",
    "symbol = \"*\"\n",
    "\n",
    "# Determine the number of symbols on the first row\n",
    "base_half = nr_rows\n",
    "base_length = base_half*2-1\n",
    "\n",
    "for i in range(nr_rows, 0, -1):\n",
    "    _half = i\n",
    "    _length = _half*2-1\n",
    "    _space = int((base_length - _length)/2)\n",
    "\n",
    "    _sequence = \" \"*_space+symbol*_length+\" \"*_space\n",
    "    print(_sequence)\n"
   ]
  },
  {
   "attachments": {},
   "cell_type": "markdown",
   "metadata": {},
   "source": [
    "### While loops\n",
    "\n",
    "while some_condition:\\\n",
    "&ensp; loop_body"
   ]
  },
  {
   "cell_type": "code",
   "execution_count": 36,
   "metadata": {},
   "outputs": [
    {
     "name": "stdout",
     "output_type": "stream",
     "text": [
      "4\n"
     ]
    }
   ],
   "source": [
    "# Count the number of digits of a integer\n",
    "# Eg. integer 300 -> number of digits = 3\n",
    "n = 3215\n",
    "result = 0\n",
    "while n>0:\n",
    "    n = n//10\n",
    "    result += 1\n",
    "\n",
    "print(result)"
   ]
  },
  {
   "cell_type": "code",
   "execution_count": 1,
   "metadata": {},
   "outputs": [
    {
     "name": "stdout",
     "output_type": "stream",
     "text": [
      "[0, 1, 1, 2, 3, 5, 8, 13, 21, 34, 55]\n"
     ]
    }
   ],
   "source": [
    "# Print the Fibonnaci sequence under a given number n\n",
    "fibonnaci_seq = []\n",
    "\n",
    "upper_limit = 70\n",
    "\n",
    "a = 0\n",
    "b = 1\n",
    "c = 0\n",
    "\n",
    "while c < upper_limit:\n",
    "    fibonnaci_seq.append(c)\n",
    "    if a<1:\n",
    "        fibonnaci_seq.append(b)\n",
    "    c = a+b\n",
    "    a = b\n",
    "    b = c\n",
    "print(fibonnaci_seq)  "
   ]
  },
  {
   "cell_type": "markdown",
   "metadata": {},
   "source": [
    "### The binary gap problem\n",
    "\n",
    "A binary gap within a positive integer N is any maximal sequence of consecutive zeros that is surrounded by ones at both ends in the binary representation of N.\n",
    "\n",
    "For example, number 9 has binary representation 1001 and contains a binary gap of length 2. The number 529 has binary representation 1000010001 and contains two binary gaps: one of length 4 and one of length 3. The number 20 has binary representation 10100 and contains one binary gap of length 1. The number 15 has binary representation 1111 and has no binary gaps. The number 32 has binary representation 100000 and has no binary gaps.\n",
    "\n",
    "Write a function:\n",
    "\n",
    "def solution(N)\n",
    "\n",
    "that, given a positive integer N, returns the length of its longest binary gap. The function should return 0 if N doesn't contain a binary gap."
   ]
  },
  {
   "cell_type": "code",
   "execution_count": 43,
   "metadata": {},
   "outputs": [
    {
     "data": {
      "text/plain": [
       "('10000010001', 5)"
      ]
     },
     "execution_count": 43,
     "metadata": {},
     "output_type": "execute_result"
    }
   ],
   "source": [
    "# BinaryGap problem\n",
    "\n",
    "N = 1041\n",
    "\n",
    "def longest_binary_gap(N):\n",
    "\n",
    "    N_bin = bin(N)[2:]\n",
    "    longest_gap = 0\n",
    "\n",
    "    for p, c in zip(N_bin[0:-1], N_bin[1:]):\n",
    "        p = int(p)\n",
    "        c = int(c)\n",
    "\n",
    "        if p>c: #10\n",
    "            # start gap\n",
    "            _gap=0\n",
    "\n",
    "        if (p==0) & (c==0):\n",
    "            _gap+=1\n",
    "        if p<c: #01\n",
    "            _gap+=1\n",
    "\n",
    "            if _gap > longest_gap:\n",
    "                # Update longest gap\n",
    "                longest_gap = _gap\n",
    "\n",
    "    return N_bin, longest_gap\n",
    "\n",
    "longest_binary_gap(N)"
   ]
  }
 ],
 "metadata": {
  "kernelspec": {
   "display_name": "Python 3",
   "language": "python",
   "name": "python3"
  },
  "language_info": {
   "codemirror_mode": {
    "name": "ipython",
    "version": 3
   },
   "file_extension": ".py",
   "mimetype": "text/x-python",
   "name": "python",
   "nbconvert_exporter": "python",
   "pygments_lexer": "ipython3",
   "version": "3.11.0"
  },
  "orig_nbformat": 4
 },
 "nbformat": 4,
 "nbformat_minor": 2
}
