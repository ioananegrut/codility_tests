{
 "cells": [
  {
   "cell_type": "markdown",
   "metadata": {},
   "source": [
    "### Arrays\n",
    "\n",
    "I. A list contains an odd number of elements. There is only one element which is a unique value. All the rest have a pair value. Find the one value without a pair."
   ]
  },
  {
   "cell_type": "code",
   "execution_count": 32,
   "metadata": {},
   "outputs": [],
   "source": [
    "# Solution from scratch\n",
    "\n",
    "def solution(A: list) -> int:\n",
    "    # a key-count pair dictionary\n",
    "    summary_dict = {}\n",
    "\n",
    "    for elem in A:\n",
    "        if elem not in summary_dict.keys():\n",
    "            # append a new key\n",
    "            summary_dict[elem]=1\n",
    "        else:\n",
    "            summary_dict[elem]+=1\n",
    "\n",
    "    # Check which key has odd count and return it\n",
    "    result=None\n",
    "    for key in summary_dict:\n",
    "        if summary_dict[key]%2 != 0:\n",
    "            result = key\n",
    "            \n",
    "    return result\n"
   ]
  },
  {
   "cell_type": "code",
   "execution_count": 55,
   "metadata": {},
   "outputs": [
    {
     "data": {
      "text/plain": [
       "8569"
      ]
     },
     "execution_count": 55,
     "metadata": {},
     "output_type": "execute_result"
    }
   ],
   "source": [
    "A = [85,4,6,1,85,6,9,7,5,5,7,4,9,100,100, 1,8569,6,9,6,9]\n",
    "\n",
    "solution(A)"
   ]
  },
  {
   "cell_type": "code",
   "execution_count": 56,
   "metadata": {},
   "outputs": [
    {
     "data": {
      "text/plain": [
       "8569"
      ]
     },
     "execution_count": 56,
     "metadata": {},
     "output_type": "execute_result"
    }
   ],
   "source": [
    "# Solution using existing libraries\n",
    "\n",
    "from collections import Counter\n",
    "\n",
    "def solution(A:list)->int:\n",
    "    result=0\n",
    "    result_dict = Counter(A)\n",
    "    for key in result_dict:\n",
    "        if result_dict[key] %2 != 0:\n",
    "            result = key\n",
    "    return result\n",
    "\n",
    "solution(A)"
   ]
  },
  {
   "cell_type": "markdown",
   "metadata": {},
   "source": [
    "II. Rotate the elements from a list, of random length, k times. That is, bring the last element on the first position, shifting the other elements by one to the right."
   ]
  },
  {
   "cell_type": "code",
   "execution_count": 53,
   "metadata": {},
   "outputs": [],
   "source": [
    "def rotate(A:list, K:int)->list:\n",
    "    print(\"initial list:{}\".format(A))\n",
    "    for k in range(K):\n",
    "        A = [A[-1]] + A[0:-1]\n",
    "        print(\"list after {} rotations: {}\".format(k+1, A))\n",
    "    return A"
   ]
  },
  {
   "cell_type": "code",
   "execution_count": 57,
   "metadata": {},
   "outputs": [
    {
     "name": "stdout",
     "output_type": "stream",
     "text": [
      "initial list:[85, 4, 6, 1, 85, 6, 9, 7, 5, 5, 7, 4, 9, 100, 100, 1, 8569, 6, 9, 6, 9]\n",
      "list after 1 rotations: [9, 85, 4, 6, 1, 85, 6, 9, 7, 5, 5, 7, 4, 9, 100, 100, 1, 8569, 6, 9, 6]\n",
      "list after 2 rotations: [6, 9, 85, 4, 6, 1, 85, 6, 9, 7, 5, 5, 7, 4, 9, 100, 100, 1, 8569, 6, 9]\n",
      "list after 3 rotations: [9, 6, 9, 85, 4, 6, 1, 85, 6, 9, 7, 5, 5, 7, 4, 9, 100, 100, 1, 8569, 6]\n",
      "list after 4 rotations: [6, 9, 6, 9, 85, 4, 6, 1, 85, 6, 9, 7, 5, 5, 7, 4, 9, 100, 100, 1, 8569]\n",
      "list after 5 rotations: [8569, 6, 9, 6, 9, 85, 4, 6, 1, 85, 6, 9, 7, 5, 5, 7, 4, 9, 100, 100, 1]\n"
     ]
    },
    {
     "data": {
      "text/plain": [
       "[8569, 6, 9, 6, 9, 85, 4, 6, 1, 85, 6, 9, 7, 5, 5, 7, 4, 9, 100, 100, 1]"
      ]
     },
     "execution_count": 57,
     "metadata": {},
     "output_type": "execute_result"
    }
   ],
   "source": [
    "A = [85,4,6,1,85,6,9,7,5,5,7,4,9,100,100, 1,8569,6,9,6,9]\n",
    "rotate(A, 5)"
   ]
  },
  {
   "cell_type": "code",
   "execution_count": 95,
   "metadata": {},
   "outputs": [
    {
     "data": {
      "text/plain": [
       "array([  85,    4,    6,    1,   85,    6,    9,    7,    5,    5,    7,\n",
       "          4,    9,  100,  100,    1, 8569,    6,    9,    6,    9])"
      ]
     },
     "execution_count": 95,
     "metadata": {},
     "output_type": "execute_result"
    }
   ],
   "source": [
    "# If instead of a list the data is stored in an numpy array\n",
    "import numpy as np\n",
    "import copy\n",
    "a = np.array(A)\n",
    "a"
   ]
  },
  {
   "cell_type": "code",
   "execution_count": 109,
   "metadata": {},
   "outputs": [],
   "source": [
    "def rotate(A:np.array, K:int)->np.array:\n",
    "    ar = copy.deepcopy(A)\n",
    "    print(\"initial array:{}\".format(ar))\n",
    "    for k in range(K):\n",
    "        print(k)\n",
    "        last_elem = np.array([ar[-1]])\n",
    "        rest_elem = np.array(ar[:-1])\n",
    "        ar = np.concatenate([last_elem, rest_elem])\n",
    "        print(\"list after {} rotations: {}\".format(k+1, ar))\n",
    "    return ar"
   ]
  },
  {
   "cell_type": "code",
   "execution_count": 110,
   "metadata": {},
   "outputs": [
    {
     "name": "stdout",
     "output_type": "stream",
     "text": [
      "initial array:[  85    4    6    1   85    6    9    7    5    5    7    4    9  100\n",
      "  100    1 8569    6    9    6    9]\n",
      "[  85    4    6    1   85    6    9    7    5    5    7    4    9  100\n",
      "  100    1 8569    6    9    6]\n",
      "0\n",
      "list after 1 rotations: [   9   85    4    6    1   85    6    9    7    5    5    7    4    9\n",
      "  100  100    1 8569    6    9    6]\n",
      "1\n",
      "list after 2 rotations: [   6    9   85    4    6    1   85    6    9    7    5    5    7    4\n",
      "    9  100  100    1 8569    6    9]\n",
      "2\n",
      "list after 3 rotations: [   9    6    9   85    4    6    1   85    6    9    7    5    5    7\n",
      "    4    9  100  100    1 8569    6]\n"
     ]
    },
    {
     "data": {
      "text/plain": [
       "array([   9,    6,    9,   85,    4,    6,    1,   85,    6,    9,    7,\n",
       "          5,    5,    7,    4,    9,  100,  100,    1, 8569,    6])"
      ]
     },
     "execution_count": 110,
     "metadata": {},
     "output_type": "execute_result"
    }
   ],
   "source": [
    "rotate(a,3)"
   ]
  }
 ],
 "metadata": {
  "kernelspec": {
   "display_name": "Python 3",
   "language": "python",
   "name": "python3"
  },
  "language_info": {
   "codemirror_mode": {
    "name": "ipython",
    "version": 3
   },
   "file_extension": ".py",
   "mimetype": "text/x-python",
   "name": "python",
   "nbconvert_exporter": "python",
   "pygments_lexer": "ipython3",
   "version": "3.11.0"
  },
  "orig_nbformat": 4
 },
 "nbformat": 4,
 "nbformat_minor": 2
}
